{
 "cells": [
  {
   "cell_type": "markdown",
   "metadata": {},
   "source": [
    "## Installing depencancies"
   ]
  },
  {
   "cell_type": "code",
   "execution_count": 1,
   "metadata": {},
   "outputs": [
    {
     "name": "stdout",
     "output_type": "stream",
     "text": [
      "Requirement already satisfied: boto3 in /home/ec2-user/anaconda3/envs/python3/lib/python3.10/site-packages (1.35.16)\n",
      "Requirement already satisfied: pandas in /home/ec2-user/anaconda3/envs/python3/lib/python3.10/site-packages (2.2.2)\n",
      "Requirement already satisfied: botocore<1.36.0,>=1.35.16 in /home/ec2-user/anaconda3/envs/python3/lib/python3.10/site-packages (from boto3) (1.35.16)\n",
      "Requirement already satisfied: jmespath<2.0.0,>=0.7.1 in /home/ec2-user/anaconda3/envs/python3/lib/python3.10/site-packages (from boto3) (1.0.1)\n",
      "Requirement already satisfied: s3transfer<0.11.0,>=0.10.0 in /home/ec2-user/anaconda3/envs/python3/lib/python3.10/site-packages (from boto3) (0.10.2)\n",
      "Requirement already satisfied: numpy>=1.22.4 in /home/ec2-user/anaconda3/envs/python3/lib/python3.10/site-packages (from pandas) (1.22.4)\n",
      "Requirement already satisfied: python-dateutil>=2.8.2 in /home/ec2-user/anaconda3/envs/python3/lib/python3.10/site-packages (from pandas) (2.9.0)\n",
      "Requirement already satisfied: pytz>=2020.1 in /home/ec2-user/anaconda3/envs/python3/lib/python3.10/site-packages (from pandas) (2024.1)\n",
      "Requirement already satisfied: tzdata>=2022.7 in /home/ec2-user/anaconda3/envs/python3/lib/python3.10/site-packages (from pandas) (2024.1)\n",
      "Requirement already satisfied: urllib3!=2.2.0,<3,>=1.25.4 in /home/ec2-user/anaconda3/envs/python3/lib/python3.10/site-packages (from botocore<1.36.0,>=1.35.16->boto3) (2.2.2)\n",
      "Requirement already satisfied: six>=1.5 in /home/ec2-user/anaconda3/envs/python3/lib/python3.10/site-packages (from python-dateutil>=2.8.2->pandas) (1.16.0)\n"
     ]
    }
   ],
   "source": [
    "!pip install boto3 pandas"
   ]
  },
  {
   "cell_type": "markdown",
   "metadata": {},
   "source": [
    "## Importing and Initialization of constants"
   ]
  },
  {
   "cell_type": "code",
   "execution_count": 2,
   "metadata": {},
   "outputs": [
    {
     "name": "stdout",
     "output_type": "stream",
     "text": [
      "sagemaker.config INFO - Not applying SDK defaults from location: /etc/xdg/sagemaker/config.yaml\n",
      "sagemaker.config INFO - Not applying SDK defaults from location: /home/ec2-user/.config/sagemaker/config.yaml\n"
     ]
    },
    {
     "name": "stderr",
     "output_type": "stream",
     "text": [
      "/home/ec2-user/anaconda3/envs/python3/lib/python3.10/site-packages/sagemaker/base_serializers.py:28: UserWarning: A NumPy version >=1.23.5 and <2.3.0 is required for this version of SciPy (detected version 1.22.4)\n",
      "  import scipy.sparse\n"
     ]
    }
   ],
   "source": [
    "import boto3\n",
    "import pandas as pd\n",
    "import os\n",
    "import sagemaker\n",
    "from sagemaker.amazon.amazon_estimator import get_image_uri\n",
    "from sagemaker.session import s3_input, Session"
   ]
  },
  {
   "cell_type": "code",
   "execution_count": 3,
   "metadata": {},
   "outputs": [],
   "source": [
    "# Initialize the S3 client\n",
    "s3 = boto3.client('s3')"
   ]
  },
  {
   "cell_type": "markdown",
   "metadata": {},
   "source": [
    "**NOTE**: Change the bucket_name"
   ]
  },
  {
   "cell_type": "code",
   "execution_count": 4,
   "metadata": {},
   "outputs": [
    {
     "name": "stdout",
     "output_type": "stream",
     "text": [
      "Region is eu-west-3 and bucket is data-bucket-axhq3rp8\n"
     ]
    }
   ],
   "source": [
    "# S3 bucket, region, session\n",
    "bucket_name = 'data-bucket-axhq3rp8'\n",
    "my_region = boto3.session.Session().region_name\n",
    "sess = boto3.session.Session()\n",
    "print(\"Region is \" + my_region + \" and bucket is \" + bucket_name)"
   ]
  },
  {
   "cell_type": "markdown",
   "metadata": {},
   "source": [
    "## Data Import"
   ]
  },
  {
   "cell_type": "code",
   "execution_count": 5,
   "metadata": {},
   "outputs": [],
   "source": [
    "#key (file path within the bucket)\n",
    "file_key = 'final_dataset.csv'\n",
    "\n",
    "# Local path to temporarily save the file\n",
    "local_file_path = 'local_file.csv'\n",
    "\n",
    "# Download the file from S3\n",
    "s3.download_file(bucket_name, file_key, 'local_file.csv')\n",
    "\n",
    "# Load the CSV file into a Pandas DataFrame\n",
    "df = pd.read_csv('local_file.csv')\n",
    "\n",
    "# Remove the local file after loading it\n",
    "os.remove(local_file_path)\n",
    "\n",
    "# df = df.head(1000) ## TESTING WITH SMALL DATA"
   ]
  },
  {
   "cell_type": "code",
   "execution_count": 6,
   "metadata": {},
   "outputs": [],
   "source": [
    "##CHECK df.shape \n",
    "##CHECK df.info()"
   ]
  },
  {
   "cell_type": "markdown",
   "metadata": {},
   "source": [
    "## Show the DataSets"
   ]
  },
  {
   "cell_type": "code",
   "execution_count": 7,
   "metadata": {},
   "outputs": [
    {
     "data": {
      "text/html": [
       "<div>\n",
       "<style scoped>\n",
       "    .dataframe tbody tr th:only-of-type {\n",
       "        vertical-align: middle;\n",
       "    }\n",
       "\n",
       "    .dataframe tbody tr th {\n",
       "        vertical-align: top;\n",
       "    }\n",
       "\n",
       "    .dataframe thead th {\n",
       "        text-align: right;\n",
       "    }\n",
       "</style>\n",
       "<table border=\"1\" class=\"dataframe\">\n",
       "  <thead>\n",
       "    <tr style=\"text-align: right;\">\n",
       "      <th></th>\n",
       "      <th>Latency</th>\n",
       "      <th>Label</th>\n",
       "      <th>E1</th>\n",
       "      <th>E2</th>\n",
       "      <th>E3</th>\n",
       "      <th>E4</th>\n",
       "      <th>E5</th>\n",
       "      <th>E6</th>\n",
       "      <th>E7</th>\n",
       "      <th>E8</th>\n",
       "      <th>...</th>\n",
       "      <th>E20</th>\n",
       "      <th>E21</th>\n",
       "      <th>E22</th>\n",
       "      <th>E23</th>\n",
       "      <th>E24</th>\n",
       "      <th>E25</th>\n",
       "      <th>E26</th>\n",
       "      <th>E27</th>\n",
       "      <th>E28</th>\n",
       "      <th>E29</th>\n",
       "    </tr>\n",
       "  </thead>\n",
       "  <tbody>\n",
       "    <tr>\n",
       "      <th>0</th>\n",
       "      <td>21015</td>\n",
       "      <td>Success</td>\n",
       "      <td>0</td>\n",
       "      <td>0</td>\n",
       "      <td>0</td>\n",
       "      <td>0</td>\n",
       "      <td>3</td>\n",
       "      <td>0</td>\n",
       "      <td>0</td>\n",
       "      <td>0</td>\n",
       "      <td>...</td>\n",
       "      <td>0</td>\n",
       "      <td>3</td>\n",
       "      <td>1</td>\n",
       "      <td>3</td>\n",
       "      <td>0</td>\n",
       "      <td>0</td>\n",
       "      <td>3</td>\n",
       "      <td>0</td>\n",
       "      <td>0</td>\n",
       "      <td>0</td>\n",
       "    </tr>\n",
       "    <tr>\n",
       "      <th>1</th>\n",
       "      <td>35833</td>\n",
       "      <td>Success</td>\n",
       "      <td>0</td>\n",
       "      <td>2</td>\n",
       "      <td>1</td>\n",
       "      <td>2</td>\n",
       "      <td>3</td>\n",
       "      <td>0</td>\n",
       "      <td>0</td>\n",
       "      <td>0</td>\n",
       "      <td>...</td>\n",
       "      <td>0</td>\n",
       "      <td>3</td>\n",
       "      <td>1</td>\n",
       "      <td>3</td>\n",
       "      <td>0</td>\n",
       "      <td>0</td>\n",
       "      <td>3</td>\n",
       "      <td>0</td>\n",
       "      <td>0</td>\n",
       "      <td>0</td>\n",
       "    </tr>\n",
       "    <tr>\n",
       "      <th>2</th>\n",
       "      <td>53457</td>\n",
       "      <td>Success</td>\n",
       "      <td>0</td>\n",
       "      <td>0</td>\n",
       "      <td>4</td>\n",
       "      <td>2</td>\n",
       "      <td>3</td>\n",
       "      <td>0</td>\n",
       "      <td>0</td>\n",
       "      <td>0</td>\n",
       "      <td>...</td>\n",
       "      <td>0</td>\n",
       "      <td>3</td>\n",
       "      <td>1</td>\n",
       "      <td>3</td>\n",
       "      <td>0</td>\n",
       "      <td>0</td>\n",
       "      <td>3</td>\n",
       "      <td>0</td>\n",
       "      <td>0</td>\n",
       "      <td>0</td>\n",
       "    </tr>\n",
       "    <tr>\n",
       "      <th>3</th>\n",
       "      <td>7208</td>\n",
       "      <td>Success</td>\n",
       "      <td>0</td>\n",
       "      <td>0</td>\n",
       "      <td>0</td>\n",
       "      <td>0</td>\n",
       "      <td>3</td>\n",
       "      <td>0</td>\n",
       "      <td>0</td>\n",
       "      <td>0</td>\n",
       "      <td>...</td>\n",
       "      <td>0</td>\n",
       "      <td>3</td>\n",
       "      <td>1</td>\n",
       "      <td>3</td>\n",
       "      <td>0</td>\n",
       "      <td>0</td>\n",
       "      <td>3</td>\n",
       "      <td>0</td>\n",
       "      <td>0</td>\n",
       "      <td>0</td>\n",
       "    </tr>\n",
       "    <tr>\n",
       "      <th>4</th>\n",
       "      <td>871</td>\n",
       "      <td>Success</td>\n",
       "      <td>0</td>\n",
       "      <td>0</td>\n",
       "      <td>0</td>\n",
       "      <td>0</td>\n",
       "      <td>3</td>\n",
       "      <td>0</td>\n",
       "      <td>0</td>\n",
       "      <td>0</td>\n",
       "      <td>...</td>\n",
       "      <td>0</td>\n",
       "      <td>3</td>\n",
       "      <td>1</td>\n",
       "      <td>3</td>\n",
       "      <td>0</td>\n",
       "      <td>0</td>\n",
       "      <td>3</td>\n",
       "      <td>0</td>\n",
       "      <td>0</td>\n",
       "      <td>0</td>\n",
       "    </tr>\n",
       "  </tbody>\n",
       "</table>\n",
       "<p>5 rows × 31 columns</p>\n",
       "</div>"
      ],
      "text/plain": [
       "   Latency    Label  E1  E2  E3  E4  E5  E6  E7  E8  ...  E20  E21  E22  E23  \\\n",
       "0    21015  Success   0   0   0   0   3   0   0   0  ...    0    3    1    3   \n",
       "1    35833  Success   0   2   1   2   3   0   0   0  ...    0    3    1    3   \n",
       "2    53457  Success   0   0   4   2   3   0   0   0  ...    0    3    1    3   \n",
       "3     7208  Success   0   0   0   0   3   0   0   0  ...    0    3    1    3   \n",
       "4      871  Success   0   0   0   0   3   0   0   0  ...    0    3    1    3   \n",
       "\n",
       "   E24  E25  E26  E27  E28  E29  \n",
       "0    0    0    3    0    0    0  \n",
       "1    0    0    3    0    0    0  \n",
       "2    0    0    3    0    0    0  \n",
       "3    0    0    3    0    0    0  \n",
       "4    0    0    3    0    0    0  \n",
       "\n",
       "[5 rows x 31 columns]"
      ]
     },
     "execution_count": 7,
     "metadata": {},
     "output_type": "execute_result"
    }
   ],
   "source": [
    "df = df.drop(columns = [\"BlockId\",\"Features\",\"TimeInterval\"] )\n",
    "df.head(5)"
   ]
  },
  {
   "cell_type": "markdown",
   "metadata": {},
   "source": [
    "## Data OutPut Path"
   ]
  },
  {
   "cell_type": "code",
   "execution_count": 8,
   "metadata": {},
   "outputs": [
    {
     "name": "stdout",
     "output_type": "stream",
     "text": [
      "s3://data-bucket-axhq3rp8/pretrained-algo/output\n"
     ]
    }
   ],
   "source": [
    "# Set an output path where the trained model will be saved\n",
    "prefix = 'pretrained-algo'\n",
    "output_path ='s3://{}/{}/output'.format(bucket_name, prefix)\n",
    "print(output_path)"
   ]
  },
  {
   "cell_type": "markdown",
   "metadata": {},
   "source": [
    "## Making Data ML Ready"
   ]
  },
  {
   "cell_type": "code",
   "execution_count": 9,
   "metadata": {},
   "outputs": [],
   "source": [
    "# Determine the number of rows for the 80% split\n",
    "split_index = int(len(df) * 0.8)\n",
    "\n",
    "# Extract and shuffle the top 80% of rows\n",
    "_80_df = df.iloc[:split_index].sample(frac=1, random_state=442).reset_index(drop=True)\n",
    "\n",
    "# Extract and shuffle the bottom 20% of rows\n",
    "_20_df = df.iloc[split_index:].sample(frac=1, random_state=352).reset_index(drop=True)\n",
    "\n",
    "# Concatenate the shuffled DataFrames\n",
    "final_df = pd.concat([_80_df, _20_df], ignore_index=True)"
   ]
  },
  {
   "cell_type": "code",
   "execution_count": 10,
   "metadata": {},
   "outputs": [
    {
     "data": {
      "text/html": [
       "<div>\n",
       "<style scoped>\n",
       "    .dataframe tbody tr th:only-of-type {\n",
       "        vertical-align: middle;\n",
       "    }\n",
       "\n",
       "    .dataframe tbody tr th {\n",
       "        vertical-align: top;\n",
       "    }\n",
       "\n",
       "    .dataframe thead th {\n",
       "        text-align: right;\n",
       "    }\n",
       "</style>\n",
       "<table border=\"1\" class=\"dataframe\">\n",
       "  <thead>\n",
       "    <tr style=\"text-align: right;\">\n",
       "      <th></th>\n",
       "      <th>Latency</th>\n",
       "      <th>Label</th>\n",
       "      <th>E1</th>\n",
       "      <th>E2</th>\n",
       "      <th>E3</th>\n",
       "      <th>E4</th>\n",
       "      <th>E5</th>\n",
       "      <th>E6</th>\n",
       "      <th>E7</th>\n",
       "      <th>E8</th>\n",
       "      <th>...</th>\n",
       "      <th>E20</th>\n",
       "      <th>E21</th>\n",
       "      <th>E22</th>\n",
       "      <th>E23</th>\n",
       "      <th>E24</th>\n",
       "      <th>E25</th>\n",
       "      <th>E26</th>\n",
       "      <th>E27</th>\n",
       "      <th>E28</th>\n",
       "      <th>E29</th>\n",
       "    </tr>\n",
       "  </thead>\n",
       "  <tbody>\n",
       "    <tr>\n",
       "      <th>0</th>\n",
       "      <td>38</td>\n",
       "      <td>Success</td>\n",
       "      <td>0</td>\n",
       "      <td>0</td>\n",
       "      <td>0</td>\n",
       "      <td>0</td>\n",
       "      <td>3</td>\n",
       "      <td>0</td>\n",
       "      <td>0</td>\n",
       "      <td>0</td>\n",
       "      <td>...</td>\n",
       "      <td>0</td>\n",
       "      <td>0</td>\n",
       "      <td>1</td>\n",
       "      <td>0</td>\n",
       "      <td>0</td>\n",
       "      <td>0</td>\n",
       "      <td>3</td>\n",
       "      <td>0</td>\n",
       "      <td>0</td>\n",
       "      <td>0</td>\n",
       "    </tr>\n",
       "    <tr>\n",
       "      <th>1</th>\n",
       "      <td>9919</td>\n",
       "      <td>Success</td>\n",
       "      <td>0</td>\n",
       "      <td>0</td>\n",
       "      <td>0</td>\n",
       "      <td>0</td>\n",
       "      <td>3</td>\n",
       "      <td>0</td>\n",
       "      <td>0</td>\n",
       "      <td>0</td>\n",
       "      <td>...</td>\n",
       "      <td>0</td>\n",
       "      <td>3</td>\n",
       "      <td>1</td>\n",
       "      <td>3</td>\n",
       "      <td>0</td>\n",
       "      <td>0</td>\n",
       "      <td>3</td>\n",
       "      <td>0</td>\n",
       "      <td>0</td>\n",
       "      <td>0</td>\n",
       "    </tr>\n",
       "    <tr>\n",
       "      <th>2</th>\n",
       "      <td>53317</td>\n",
       "      <td>Success</td>\n",
       "      <td>0</td>\n",
       "      <td>0</td>\n",
       "      <td>4</td>\n",
       "      <td>2</td>\n",
       "      <td>3</td>\n",
       "      <td>0</td>\n",
       "      <td>0</td>\n",
       "      <td>0</td>\n",
       "      <td>...</td>\n",
       "      <td>0</td>\n",
       "      <td>3</td>\n",
       "      <td>1</td>\n",
       "      <td>3</td>\n",
       "      <td>0</td>\n",
       "      <td>0</td>\n",
       "      <td>3</td>\n",
       "      <td>0</td>\n",
       "      <td>0</td>\n",
       "      <td>0</td>\n",
       "    </tr>\n",
       "    <tr>\n",
       "      <th>3</th>\n",
       "      <td>3426</td>\n",
       "      <td>Success</td>\n",
       "      <td>0</td>\n",
       "      <td>0</td>\n",
       "      <td>0</td>\n",
       "      <td>0</td>\n",
       "      <td>3</td>\n",
       "      <td>0</td>\n",
       "      <td>0</td>\n",
       "      <td>0</td>\n",
       "      <td>...</td>\n",
       "      <td>0</td>\n",
       "      <td>3</td>\n",
       "      <td>1</td>\n",
       "      <td>3</td>\n",
       "      <td>0</td>\n",
       "      <td>0</td>\n",
       "      <td>3</td>\n",
       "      <td>0</td>\n",
       "      <td>0</td>\n",
       "      <td>0</td>\n",
       "    </tr>\n",
       "    <tr>\n",
       "      <th>4</th>\n",
       "      <td>44</td>\n",
       "      <td>Success</td>\n",
       "      <td>0</td>\n",
       "      <td>0</td>\n",
       "      <td>0</td>\n",
       "      <td>0</td>\n",
       "      <td>3</td>\n",
       "      <td>0</td>\n",
       "      <td>0</td>\n",
       "      <td>0</td>\n",
       "      <td>...</td>\n",
       "      <td>0</td>\n",
       "      <td>0</td>\n",
       "      <td>1</td>\n",
       "      <td>0</td>\n",
       "      <td>0</td>\n",
       "      <td>0</td>\n",
       "      <td>3</td>\n",
       "      <td>0</td>\n",
       "      <td>0</td>\n",
       "      <td>0</td>\n",
       "    </tr>\n",
       "  </tbody>\n",
       "</table>\n",
       "<p>5 rows × 31 columns</p>\n",
       "</div>"
      ],
      "text/plain": [
       "   Latency    Label  E1  E2  E3  E4  E5  E6  E7  E8  ...  E20  E21  E22  E23  \\\n",
       "0       38  Success   0   0   0   0   3   0   0   0  ...    0    0    1    0   \n",
       "1     9919  Success   0   0   0   0   3   0   0   0  ...    0    3    1    3   \n",
       "2    53317  Success   0   0   4   2   3   0   0   0  ...    0    3    1    3   \n",
       "3     3426  Success   0   0   0   0   3   0   0   0  ...    0    3    1    3   \n",
       "4       44  Success   0   0   0   0   3   0   0   0  ...    0    0    1    0   \n",
       "\n",
       "   E24  E25  E26  E27  E28  E29  \n",
       "0    0    0    3    0    0    0  \n",
       "1    0    0    3    0    0    0  \n",
       "2    0    0    3    0    0    0  \n",
       "3    0    0    3    0    0    0  \n",
       "4    0    0    3    0    0    0  \n",
       "\n",
       "[5 rows x 31 columns]"
      ]
     },
     "execution_count": 10,
     "metadata": {},
     "output_type": "execute_result"
    }
   ],
   "source": [
    "df = final_df\n",
    "df.head(5)"
   ]
  },
  {
   "cell_type": "code",
   "execution_count": 11,
   "metadata": {},
   "outputs": [
    {
     "name": "stdout",
     "output_type": "stream",
     "text": [
      "(80000, 31) (20000, 31)\n"
     ]
    },
    {
     "name": "stderr",
     "output_type": "stream",
     "text": [
      "/home/ec2-user/anaconda3/envs/python3/lib/python3.10/site-packages/numpy/core/fromnumeric.py:57: FutureWarning: 'DataFrame.swapaxes' is deprecated and will be removed in a future version. Please use 'DataFrame.transpose' instead.\n",
      "  return bound(*args, **kwds)\n"
     ]
    }
   ],
   "source": [
    "import numpy as np\n",
    "\n",
    "# Split the data into 80% for training and 20% for testing\n",
    "train_data, test_data = np.split(df, [int(0.8 * len(df))])\n",
    "\n",
    "print(train_data.shape, test_data.shape)\n"
   ]
  },
  {
   "cell_type": "markdown",
   "metadata": {},
   "source": [
    "### Training Data"
   ]
  },
  {
   "cell_type": "code",
   "execution_count": 12,
   "metadata": {},
   "outputs": [],
   "source": [
    "label_column = train_data['Label']\n",
    "features = train_data.drop(columns=['Label'])\n",
    "\n",
    "# To Ensure 'Label' Column is the First column in the DataFrame before Saving\n",
    "train_data_final = pd.concat([label_column, features], axis=1)"
   ]
  },
  {
   "cell_type": "code",
   "execution_count": 13,
   "metadata": {},
   "outputs": [],
   "source": [
    "# Mapping\n",
    "train_data_final['Label'] = train_data_final['Label'].map({'Success': 1, 'Fail': 0}) "
   ]
  },
  {
   "cell_type": "code",
   "execution_count": 14,
   "metadata": {},
   "outputs": [
    {
     "data": {
      "text/html": [
       "<div>\n",
       "<style scoped>\n",
       "    .dataframe tbody tr th:only-of-type {\n",
       "        vertical-align: middle;\n",
       "    }\n",
       "\n",
       "    .dataframe tbody tr th {\n",
       "        vertical-align: top;\n",
       "    }\n",
       "\n",
       "    .dataframe thead th {\n",
       "        text-align: right;\n",
       "    }\n",
       "</style>\n",
       "<table border=\"1\" class=\"dataframe\">\n",
       "  <thead>\n",
       "    <tr style=\"text-align: right;\">\n",
       "      <th></th>\n",
       "      <th>Label</th>\n",
       "      <th>Latency</th>\n",
       "      <th>E1</th>\n",
       "      <th>E2</th>\n",
       "      <th>E3</th>\n",
       "      <th>E4</th>\n",
       "      <th>E5</th>\n",
       "      <th>E6</th>\n",
       "      <th>E7</th>\n",
       "      <th>E8</th>\n",
       "      <th>...</th>\n",
       "      <th>E20</th>\n",
       "      <th>E21</th>\n",
       "      <th>E22</th>\n",
       "      <th>E23</th>\n",
       "      <th>E24</th>\n",
       "      <th>E25</th>\n",
       "      <th>E26</th>\n",
       "      <th>E27</th>\n",
       "      <th>E28</th>\n",
       "      <th>E29</th>\n",
       "    </tr>\n",
       "  </thead>\n",
       "  <tbody>\n",
       "    <tr>\n",
       "      <th>0</th>\n",
       "      <td>1</td>\n",
       "      <td>38</td>\n",
       "      <td>0</td>\n",
       "      <td>0</td>\n",
       "      <td>0</td>\n",
       "      <td>0</td>\n",
       "      <td>3</td>\n",
       "      <td>0</td>\n",
       "      <td>0</td>\n",
       "      <td>0</td>\n",
       "      <td>...</td>\n",
       "      <td>0</td>\n",
       "      <td>0</td>\n",
       "      <td>1</td>\n",
       "      <td>0</td>\n",
       "      <td>0</td>\n",
       "      <td>0</td>\n",
       "      <td>3</td>\n",
       "      <td>0</td>\n",
       "      <td>0</td>\n",
       "      <td>0</td>\n",
       "    </tr>\n",
       "    <tr>\n",
       "      <th>1</th>\n",
       "      <td>1</td>\n",
       "      <td>9919</td>\n",
       "      <td>0</td>\n",
       "      <td>0</td>\n",
       "      <td>0</td>\n",
       "      <td>0</td>\n",
       "      <td>3</td>\n",
       "      <td>0</td>\n",
       "      <td>0</td>\n",
       "      <td>0</td>\n",
       "      <td>...</td>\n",
       "      <td>0</td>\n",
       "      <td>3</td>\n",
       "      <td>1</td>\n",
       "      <td>3</td>\n",
       "      <td>0</td>\n",
       "      <td>0</td>\n",
       "      <td>3</td>\n",
       "      <td>0</td>\n",
       "      <td>0</td>\n",
       "      <td>0</td>\n",
       "    </tr>\n",
       "    <tr>\n",
       "      <th>2</th>\n",
       "      <td>1</td>\n",
       "      <td>53317</td>\n",
       "      <td>0</td>\n",
       "      <td>0</td>\n",
       "      <td>4</td>\n",
       "      <td>2</td>\n",
       "      <td>3</td>\n",
       "      <td>0</td>\n",
       "      <td>0</td>\n",
       "      <td>0</td>\n",
       "      <td>...</td>\n",
       "      <td>0</td>\n",
       "      <td>3</td>\n",
       "      <td>1</td>\n",
       "      <td>3</td>\n",
       "      <td>0</td>\n",
       "      <td>0</td>\n",
       "      <td>3</td>\n",
       "      <td>0</td>\n",
       "      <td>0</td>\n",
       "      <td>0</td>\n",
       "    </tr>\n",
       "    <tr>\n",
       "      <th>3</th>\n",
       "      <td>1</td>\n",
       "      <td>3426</td>\n",
       "      <td>0</td>\n",
       "      <td>0</td>\n",
       "      <td>0</td>\n",
       "      <td>0</td>\n",
       "      <td>3</td>\n",
       "      <td>0</td>\n",
       "      <td>0</td>\n",
       "      <td>0</td>\n",
       "      <td>...</td>\n",
       "      <td>0</td>\n",
       "      <td>3</td>\n",
       "      <td>1</td>\n",
       "      <td>3</td>\n",
       "      <td>0</td>\n",
       "      <td>0</td>\n",
       "      <td>3</td>\n",
       "      <td>0</td>\n",
       "      <td>0</td>\n",
       "      <td>0</td>\n",
       "    </tr>\n",
       "    <tr>\n",
       "      <th>4</th>\n",
       "      <td>1</td>\n",
       "      <td>44</td>\n",
       "      <td>0</td>\n",
       "      <td>0</td>\n",
       "      <td>0</td>\n",
       "      <td>0</td>\n",
       "      <td>3</td>\n",
       "      <td>0</td>\n",
       "      <td>0</td>\n",
       "      <td>0</td>\n",
       "      <td>...</td>\n",
       "      <td>0</td>\n",
       "      <td>0</td>\n",
       "      <td>1</td>\n",
       "      <td>0</td>\n",
       "      <td>0</td>\n",
       "      <td>0</td>\n",
       "      <td>3</td>\n",
       "      <td>0</td>\n",
       "      <td>0</td>\n",
       "      <td>0</td>\n",
       "    </tr>\n",
       "  </tbody>\n",
       "</table>\n",
       "<p>5 rows × 31 columns</p>\n",
       "</div>"
      ],
      "text/plain": [
       "   Label  Latency  E1  E2  E3  E4  E5  E6  E7  E8  ...  E20  E21  E22  E23  \\\n",
       "0      1       38   0   0   0   0   3   0   0   0  ...    0    0    1    0   \n",
       "1      1     9919   0   0   0   0   3   0   0   0  ...    0    3    1    3   \n",
       "2      1    53317   0   0   4   2   3   0   0   0  ...    0    3    1    3   \n",
       "3      1     3426   0   0   0   0   3   0   0   0  ...    0    3    1    3   \n",
       "4      1       44   0   0   0   0   3   0   0   0  ...    0    0    1    0   \n",
       "\n",
       "   E24  E25  E26  E27  E28  E29  \n",
       "0    0    0    3    0    0    0  \n",
       "1    0    0    3    0    0    0  \n",
       "2    0    0    3    0    0    0  \n",
       "3    0    0    3    0    0    0  \n",
       "4    0    0    3    0    0    0  \n",
       "\n",
       "[5 rows x 31 columns]"
      ]
     },
     "execution_count": 14,
     "metadata": {},
     "output_type": "execute_result"
    }
   ],
   "source": [
    "train_data_final.head(5)"
   ]
  },
  {
   "cell_type": "code",
   "execution_count": 15,
   "metadata": {},
   "outputs": [
    {
     "name": "stderr",
     "output_type": "stream",
     "text": [
      "The class sagemaker.session.s3_input has been renamed in sagemaker>=2.\n",
      "See: https://sagemaker.readthedocs.io/en/stable/v2.html for details.\n"
     ]
    }
   ],
   "source": [
    "# Save to CSV\n",
    "train_data_final.to_csv('train.csv', index=False, header=False)\n",
    "\n",
    "boto3.Session().resource('s3').Bucket(bucket_name).Object(os.path.join(prefix, 'train/train.csv')).upload_file('train.csv')\n",
    "# Create an s3_input for the training data\n",
    "s3_input_train = s3_input(s3_data='s3://{}/{}/train/train.csv'.format(bucket_name, prefix), content_type='text/csv')"
   ]
  },
  {
   "cell_type": "markdown",
   "metadata": {},
   "source": [
    "### Testing Data"
   ]
  },
  {
   "cell_type": "code",
   "execution_count": 16,
   "metadata": {},
   "outputs": [],
   "source": [
    "label_column = test_data['Label']\n",
    "features = test_data.drop(columns=['Label'])\n",
    "\n",
    "test_data_final = pd.concat([label_column, features], axis=1)"
   ]
  },
  {
   "cell_type": "code",
   "execution_count": 17,
   "metadata": {},
   "outputs": [],
   "source": [
    "# Mapping\n",
    "test_data_final['Label'] = test_data_final['Label'].map({'Success': 1, 'Fail': 0})  # Map your labels to 1 and 0\n"
   ]
  },
  {
   "cell_type": "code",
   "execution_count": 18,
   "metadata": {},
   "outputs": [
    {
     "data": {
      "text/html": [
       "<div>\n",
       "<style scoped>\n",
       "    .dataframe tbody tr th:only-of-type {\n",
       "        vertical-align: middle;\n",
       "    }\n",
       "\n",
       "    .dataframe tbody tr th {\n",
       "        vertical-align: top;\n",
       "    }\n",
       "\n",
       "    .dataframe thead th {\n",
       "        text-align: right;\n",
       "    }\n",
       "</style>\n",
       "<table border=\"1\" class=\"dataframe\">\n",
       "  <thead>\n",
       "    <tr style=\"text-align: right;\">\n",
       "      <th></th>\n",
       "      <th>Label</th>\n",
       "      <th>Latency</th>\n",
       "      <th>E1</th>\n",
       "      <th>E2</th>\n",
       "      <th>E3</th>\n",
       "      <th>E4</th>\n",
       "      <th>E5</th>\n",
       "      <th>E6</th>\n",
       "      <th>E7</th>\n",
       "      <th>E8</th>\n",
       "      <th>...</th>\n",
       "      <th>E20</th>\n",
       "      <th>E21</th>\n",
       "      <th>E22</th>\n",
       "      <th>E23</th>\n",
       "      <th>E24</th>\n",
       "      <th>E25</th>\n",
       "      <th>E26</th>\n",
       "      <th>E27</th>\n",
       "      <th>E28</th>\n",
       "      <th>E29</th>\n",
       "    </tr>\n",
       "  </thead>\n",
       "  <tbody>\n",
       "    <tr>\n",
       "      <th>80000</th>\n",
       "      <td>1</td>\n",
       "      <td>21455</td>\n",
       "      <td>0</td>\n",
       "      <td>1</td>\n",
       "      <td>0</td>\n",
       "      <td>0</td>\n",
       "      <td>3</td>\n",
       "      <td>0</td>\n",
       "      <td>0</td>\n",
       "      <td>0</td>\n",
       "      <td>...</td>\n",
       "      <td>0</td>\n",
       "      <td>3</td>\n",
       "      <td>1</td>\n",
       "      <td>3</td>\n",
       "      <td>0</td>\n",
       "      <td>0</td>\n",
       "      <td>3</td>\n",
       "      <td>0</td>\n",
       "      <td>0</td>\n",
       "      <td>0</td>\n",
       "    </tr>\n",
       "    <tr>\n",
       "      <th>80001</th>\n",
       "      <td>1</td>\n",
       "      <td>8507</td>\n",
       "      <td>0</td>\n",
       "      <td>0</td>\n",
       "      <td>0</td>\n",
       "      <td>0</td>\n",
       "      <td>3</td>\n",
       "      <td>0</td>\n",
       "      <td>0</td>\n",
       "      <td>0</td>\n",
       "      <td>...</td>\n",
       "      <td>0</td>\n",
       "      <td>3</td>\n",
       "      <td>1</td>\n",
       "      <td>3</td>\n",
       "      <td>0</td>\n",
       "      <td>0</td>\n",
       "      <td>3</td>\n",
       "      <td>0</td>\n",
       "      <td>0</td>\n",
       "      <td>0</td>\n",
       "    </tr>\n",
       "    <tr>\n",
       "      <th>80002</th>\n",
       "      <td>1</td>\n",
       "      <td>33681</td>\n",
       "      <td>0</td>\n",
       "      <td>0</td>\n",
       "      <td>8</td>\n",
       "      <td>0</td>\n",
       "      <td>3</td>\n",
       "      <td>0</td>\n",
       "      <td>0</td>\n",
       "      <td>0</td>\n",
       "      <td>...</td>\n",
       "      <td>0</td>\n",
       "      <td>3</td>\n",
       "      <td>1</td>\n",
       "      <td>3</td>\n",
       "      <td>0</td>\n",
       "      <td>0</td>\n",
       "      <td>3</td>\n",
       "      <td>0</td>\n",
       "      <td>0</td>\n",
       "      <td>0</td>\n",
       "    </tr>\n",
       "    <tr>\n",
       "      <th>80003</th>\n",
       "      <td>1</td>\n",
       "      <td>5312</td>\n",
       "      <td>0</td>\n",
       "      <td>0</td>\n",
       "      <td>0</td>\n",
       "      <td>0</td>\n",
       "      <td>3</td>\n",
       "      <td>0</td>\n",
       "      <td>0</td>\n",
       "      <td>0</td>\n",
       "      <td>...</td>\n",
       "      <td>0</td>\n",
       "      <td>3</td>\n",
       "      <td>1</td>\n",
       "      <td>3</td>\n",
       "      <td>0</td>\n",
       "      <td>0</td>\n",
       "      <td>3</td>\n",
       "      <td>0</td>\n",
       "      <td>0</td>\n",
       "      <td>0</td>\n",
       "    </tr>\n",
       "    <tr>\n",
       "      <th>80004</th>\n",
       "      <td>1</td>\n",
       "      <td>2216</td>\n",
       "      <td>0</td>\n",
       "      <td>0</td>\n",
       "      <td>0</td>\n",
       "      <td>0</td>\n",
       "      <td>3</td>\n",
       "      <td>0</td>\n",
       "      <td>0</td>\n",
       "      <td>0</td>\n",
       "      <td>...</td>\n",
       "      <td>0</td>\n",
       "      <td>3</td>\n",
       "      <td>1</td>\n",
       "      <td>3</td>\n",
       "      <td>0</td>\n",
       "      <td>0</td>\n",
       "      <td>3</td>\n",
       "      <td>0</td>\n",
       "      <td>0</td>\n",
       "      <td>0</td>\n",
       "    </tr>\n",
       "  </tbody>\n",
       "</table>\n",
       "<p>5 rows × 31 columns</p>\n",
       "</div>"
      ],
      "text/plain": [
       "       Label  Latency  E1  E2  E3  E4  E5  E6  E7  E8  ...  E20  E21  E22  \\\n",
       "80000      1    21455   0   1   0   0   3   0   0   0  ...    0    3    1   \n",
       "80001      1     8507   0   0   0   0   3   0   0   0  ...    0    3    1   \n",
       "80002      1    33681   0   0   8   0   3   0   0   0  ...    0    3    1   \n",
       "80003      1     5312   0   0   0   0   3   0   0   0  ...    0    3    1   \n",
       "80004      1     2216   0   0   0   0   3   0   0   0  ...    0    3    1   \n",
       "\n",
       "       E23  E24  E25  E26  E27  E28  E29  \n",
       "80000    3    0    0    3    0    0    0  \n",
       "80001    3    0    0    3    0    0    0  \n",
       "80002    3    0    0    3    0    0    0  \n",
       "80003    3    0    0    3    0    0    0  \n",
       "80004    3    0    0    3    0    0    0  \n",
       "\n",
       "[5 rows x 31 columns]"
      ]
     },
     "execution_count": 18,
     "metadata": {},
     "output_type": "execute_result"
    }
   ],
   "source": [
    "##CHECK test_data_final.shape\n",
    "test_data_final.head(5)"
   ]
  },
  {
   "cell_type": "code",
   "execution_count": 19,
   "metadata": {},
   "outputs": [
    {
     "name": "stderr",
     "output_type": "stream",
     "text": [
      "The class sagemaker.session.s3_input has been renamed in sagemaker>=2.\n",
      "See: https://sagemaker.readthedocs.io/en/stable/v2.html for details.\n"
     ]
    }
   ],
   "source": [
    "# Save to CSV\n",
    "test_data_final.to_csv('test.csv', index=False, header=False)\n",
    "\n",
    "boto3.Session().resource('s3').Bucket(bucket_name).Object(os.path.join(prefix, 'test/test.csv')).upload_file('test.csv')\n",
    "# Create an s3_input for the \\testing data\n",
    "s3_input_test = s3_input(s3_data='s3://{}/{}/test/test.csv'.format(bucket_name, prefix), content_type='text/csv')"
   ]
  },
  {
   "cell_type": "markdown",
   "metadata": {},
   "source": [
    "## SageMaker SDK/ Inbuild Container "
   ]
  },
  {
   "cell_type": "markdown",
   "metadata": {},
   "source": [
    "### Calling Inbuilt Image URI"
   ]
  },
  {
   "cell_type": "code",
   "execution_count": 20,
   "metadata": {},
   "outputs": [
    {
     "name": "stderr",
     "output_type": "stream",
     "text": [
      "The method get_image_uri has been renamed in sagemaker>=2.\n",
      "See: https://sagemaker.readthedocs.io/en/stable/v2.html for details.\n"
     ]
    }
   ],
   "source": [
    "# Looks for the XGBoost image URI and builds an XGBoost container. Specify the repo_version depending on preference.\n",
    "container = get_image_uri(boto3.Session().region_name,\n",
    "                          'xgboost', \n",
    "                          repo_version='1.0-1')"
   ]
  },
  {
   "cell_type": "markdown",
   "metadata": {},
   "source": [
    "This constructs the Docker image URI for XGBoost in the specified AWS region and version."
   ]
  },
  {
   "cell_type": "markdown",
   "metadata": {},
   "source": [
    "### Initialize hyperparameters"
   ]
  },
  {
   "cell_type": "code",
   "execution_count": 21,
   "metadata": {},
   "outputs": [],
   "source": [
    "hyperparameters = {\n",
    "        \"max_depth\":\"5\",                ## Maximum depth of a tree. Higher means more complex models but risk of overfitting.\n",
    "        \"eta\":\"0.2\",                    ## Learning rate. Lower values make the learning process slower but more precise.\n",
    "        \"gamma\":\"4\",                    ## Minimum loss reduction required to make a further partition on a leaf node. Controls the model’s complexity.\n",
    "        \"min_child_weight\":\"6\",         ## Minimum sum of instance weight (hessian) needed in a child. Higher values prevent overfitting.\n",
    "        \"subsample\":\"0.7\",              ## Fraction of training data used. Reduces overfitting by sampling part of the data. \n",
    "        \"objective\":\"binary:logistic\",  ## Specifies the learning task and corresponding objective. binary:logistic is for binary classification.\n",
    "        \"num_round\":50                  ## Number of boosting rounds, essentially how many times the model is trained.\n",
    "        }"
   ]
  },
  {
   "cell_type": "code",
   "execution_count": 22,
   "metadata": {},
   "outputs": [
    {
     "name": "stderr",
     "output_type": "stream",
     "text": [
      "train_instance_count has been renamed in sagemaker>=2.\n",
      "See: https://sagemaker.readthedocs.io/en/stable/v2.html for details.\n",
      "train_instance_type has been renamed in sagemaker>=2.\n",
      "See: https://sagemaker.readthedocs.io/en/stable/v2.html for details.\n",
      "train_max_run has been renamed in sagemaker>=2.\n",
      "See: https://sagemaker.readthedocs.io/en/stable/v2.html for details.\n",
      "train_use_spot_instances has been renamed in sagemaker>=2.\n",
      "See: https://sagemaker.readthedocs.io/en/stable/v2.html for details.\n",
      "train_max_wait has been renamed in sagemaker>=2.\n",
      "See: https://sagemaker.readthedocs.io/en/stable/v2.html for details.\n",
      "train_volume_size has been renamed in sagemaker>=2.\n",
      "See: https://sagemaker.readthedocs.io/en/stable/v2.html for details.\n"
     ]
    }
   ],
   "source": [
    "# A SageMaker estimator that calls the xgboost-container\n",
    "estimator = sagemaker.estimator.Estimator(image_uri=container,                  # Points to the XGBoost container we previously set up. This tells SageMaker which algorithm container to use.\n",
    "                                          hyperparameters=hyperparameters,      # Passes the defined hyperparameters to the estimator. These are the settings that guide the training process.\n",
    "                                          role=sagemaker.get_execution_role(),  # Specifies the IAM role that SageMaker assumes during the training job. This role allows access to AWS resources like S3.\n",
    "                                          train_instance_count=1,               # Sets the number of training instances. Here, it’s using a single instance.\n",
    "                                          train_instance_type='ml.m5.large',    # Specifies the type of instance to use for training. ml.m5.2xlarge is a general-purpose instance with a balance of compute, memory, and network resources.\n",
    "                                          train_volume_size=5, # 5GB            # Sets the size of the storage volume attached to the training instance, in GB. Here, it’s 5 GB.\n",
    "                                          output_path=output_path,              # Defines where the model artifacts and output of the training job will be saved in S3.\n",
    "                                          train_use_spot_instances=True,        # Utilizes spot instances for training, which can be significantly cheaper than on-demand instances. Spot instances are spare EC2 capacity offered at a lower price.\n",
    "                                          train_max_run=300,                    # Specifies the maximum runtime for the training job in seconds. Here, it's 300 seconds (5 minutes).\n",
    "                                          train_max_wait=600)                   # Sets the maximum time to wait for the job to complete, including the time waiting for spot instances, in seconds. Here, it's 600 seconds (10 minutes)."
   ]
  },
  {
   "cell_type": "markdown",
   "metadata": {},
   "source": [
    "FILE: ~/anaconda3/envs/python3/lib/python3.10/site-packages/sagemaker/estimator.py"
   ]
  },
  {
   "cell_type": "markdown",
   "metadata": {},
   "source": [
    "### Training The Model"
   ]
  },
  {
   "cell_type": "code",
   "execution_count": 23,
   "metadata": {
    "scrolled": false
   },
   "outputs": [
    {
     "name": "stderr",
     "output_type": "stream",
     "text": [
      "INFO:sagemaker:Creating training-job with name: sagemaker-xgboost-2024-10-21-07-40-14-736\n"
     ]
    },
    {
     "name": "stdout",
     "output_type": "stream",
     "text": [
      "2024-10-21 07:40:18 Starting - Starting the training job...\n",
      "2024-10-21 07:40:32 Starting - Preparing the instances for training...\n",
      "2024-10-21 07:40:55 Downloading - Downloading input data...\n",
      "2024-10-21 07:41:36 Downloading - Downloading the training image.....\u001b[34m[2024-10-21 07:42:26.164 ip-10-0-141-6.eu-west-3.compute.internal:7 INFO utils.py:27] RULE_JOB_STOP_SIGNAL_FILENAME: None\u001b[0m\n",
      "\u001b[34mINFO:sagemaker-containers:Imported framework sagemaker_xgboost_container.training\u001b[0m\n",
      "\u001b[34mINFO:sagemaker-containers:Failed to parse hyperparameter objective value binary:logistic to Json.\u001b[0m\n",
      "\u001b[34mReturning the value itself\u001b[0m\n",
      "\u001b[34mINFO:sagemaker-containers:No GPUs detected (normal if no gpus installed)\u001b[0m\n",
      "\u001b[34mINFO:sagemaker_xgboost_container.training:Running XGBoost Sagemaker in algorithm mode\u001b[0m\n",
      "\u001b[34mINFO:root:Determined delimiter of CSV input is ','\u001b[0m\n",
      "\u001b[34mINFO:root:Determined delimiter of CSV input is ','\u001b[0m\n",
      "\u001b[34mINFO:root:Determined delimiter of CSV input is ','\u001b[0m\n",
      "\u001b[34mINFO:root:Determined delimiter of CSV input is ','\u001b[0m\n",
      "\u001b[34mINFO:root:Single node training.\u001b[0m\n",
      "\u001b[34m[07:42:26] 80000x30 matrix with 2400000 entries loaded from /opt/ml/input/data/train?format=csv&label_column=0&delimiter=,\u001b[0m\n",
      "\u001b[34m[07:42:26] 20000x30 matrix with 600000 entries loaded from /opt/ml/input/data/validation?format=csv&label_column=0&delimiter=,\u001b[0m\n",
      "\u001b[34m[2024-10-21 07:42:26.393 ip-10-0-141-6.eu-west-3.compute.internal:7 INFO json_config.py:91] Creating hook from json_config at /opt/ml/input/config/debughookconfig.json.\u001b[0m\n",
      "\u001b[34m[2024-10-21 07:42:26.394 ip-10-0-141-6.eu-west-3.compute.internal:7 INFO hook.py:201] tensorboard_dir has not been set for the hook. SMDebug will not be exporting tensorboard summaries.\u001b[0m\n",
      "\u001b[34m[2024-10-21 07:42:26.394 ip-10-0-141-6.eu-west-3.compute.internal:7 INFO profiler_config_parser.py:102] User has disabled profiler.\u001b[0m\n",
      "\u001b[34m[2024-10-21 07:42:26.395 ip-10-0-141-6.eu-west-3.compute.internal:7 INFO hook.py:255] Saving to /opt/ml/output/tensors\u001b[0m\n",
      "\u001b[34m[2024-10-21 07:42:26.395 ip-10-0-141-6.eu-west-3.compute.internal:7 INFO state_store.py:77] The checkpoint config file /opt/ml/input/config/checkpointconfig.json does not exist.\u001b[0m\n",
      "\u001b[34mINFO:root:Debug hook created from config\u001b[0m\n",
      "\u001b[34mINFO:root:Train matrix has 80000 rows\u001b[0m\n",
      "\u001b[34mINFO:root:Validation matrix has 20000 rows\u001b[0m\n",
      "\u001b[34m[07:42:26] WARNING: /workspace/src/learner.cc:328: \u001b[0m\n",
      "\u001b[34mParameters: { num_round } might not be used.\n",
      "  This may not be accurate due to some parameters are only used in language bindings but\n",
      "  passed down to XGBoost core.  Or some parameters are not used but slip through this\n",
      "  verification. Please open an issue if you find above cases.\u001b[0m\n",
      "\u001b[34m[0]#011train-error:0.00130#011validation-error:0.00145\u001b[0m\n",
      "\u001b[34m[2024-10-21 07:42:26.583 ip-10-0-141-6.eu-west-3.compute.internal:7 INFO hook.py:423] Monitoring the collections: metrics\u001b[0m\n",
      "\u001b[34m[2024-10-21 07:42:26.586 ip-10-0-141-6.eu-west-3.compute.internal:7 INFO hook.py:486] Hook is writing from the hook with pid: 7\u001b[0m\n",
      "\u001b[34m[1]#011train-error:0.00130#011validation-error:0.00145\u001b[0m\n",
      "\u001b[34m[2]#011train-error:0.00130#011validation-error:0.00145\u001b[0m\n",
      "\u001b[34m[3]#011train-error:0.00130#011validation-error:0.00145\u001b[0m\n",
      "\u001b[34m[4]#011train-error:0.00130#011validation-error:0.00145\u001b[0m\n",
      "\u001b[34m[5]#011train-error:0.00130#011validation-error:0.00145\u001b[0m\n",
      "\u001b[34m[6]#011train-error:0.00130#011validation-error:0.00145\u001b[0m\n",
      "\u001b[34m[7]#011train-error:0.00130#011validation-error:0.00145\u001b[0m\n",
      "\u001b[34m[8]#011train-error:0.00130#011validation-error:0.00145\u001b[0m\n",
      "\u001b[34m[9]#011train-error:0.00130#011validation-error:0.00145\u001b[0m\n",
      "\u001b[34m[10]#011train-error:0.00130#011validation-error:0.00145\u001b[0m\n",
      "\u001b[34m[11]#011train-error:0.00130#011validation-error:0.00145\u001b[0m\n",
      "\u001b[34m[12]#011train-error:0.00130#011validation-error:0.00145\u001b[0m\n",
      "\u001b[34m[13]#011train-error:0.00130#011validation-error:0.00145\u001b[0m\n",
      "\u001b[34m[14]#011train-error:0.00130#011validation-error:0.00145\u001b[0m\n",
      "\u001b[34m[15]#011train-error:0.00130#011validation-error:0.00145\u001b[0m\n",
      "\u001b[34m[16]#011train-error:0.00130#011validation-error:0.00145\u001b[0m\n",
      "\u001b[34m[17]#011train-error:0.00130#011validation-error:0.00145\u001b[0m\n",
      "\u001b[34m[18]#011train-error:0.00130#011validation-error:0.00145\u001b[0m\n",
      "\u001b[34m[19]#011train-error:0.00130#011validation-error:0.00145\u001b[0m\n",
      "\u001b[34m[20]#011train-error:0.00130#011validation-error:0.00145\u001b[0m\n",
      "\u001b[34m[21]#011train-error:0.00130#011validation-error:0.00145\u001b[0m\n",
      "\u001b[34m[22]#011train-error:0.00130#011validation-error:0.00145\u001b[0m\n",
      "\u001b[34m[23]#011train-error:0.00120#011validation-error:0.00130\u001b[0m\n",
      "\u001b[34m[24]#011train-error:0.00120#011validation-error:0.00130\u001b[0m\n",
      "\u001b[34m[25]#011train-error:0.00120#011validation-error:0.00130\u001b[0m\n",
      "\u001b[34m[26]#011train-error:0.00120#011validation-error:0.00130\u001b[0m\n",
      "\u001b[34m[27]#011train-error:0.00120#011validation-error:0.00130\u001b[0m\n",
      "\u001b[34m[28]#011train-error:0.00120#011validation-error:0.00130\u001b[0m\n",
      "\u001b[34m[29]#011train-error:0.00120#011validation-error:0.00130\u001b[0m\n",
      "\u001b[34m[30]#011train-error:0.00120#011validation-error:0.00130\u001b[0m\n",
      "\u001b[34m[31]#011train-error:0.00120#011validation-error:0.00130\u001b[0m\n",
      "\u001b[34m[32]#011train-error:0.00120#011validation-error:0.00130\u001b[0m\n",
      "\u001b[34m[33]#011train-error:0.00120#011validation-error:0.00130\u001b[0m\n",
      "\u001b[34m[34]#011train-error:0.00120#011validation-error:0.00130\u001b[0m\n",
      "\u001b[34m[35]#011train-error:0.00115#011validation-error:0.00130\u001b[0m\n",
      "\u001b[34m[36]#011train-error:0.00114#011validation-error:0.00130\u001b[0m\n",
      "\u001b[34m[37]#011train-error:0.00114#011validation-error:0.00125\u001b[0m\n",
      "\u001b[34m[38]#011train-error:0.00114#011validation-error:0.00125\u001b[0m\n",
      "\u001b[34m[39]#011train-error:0.00114#011validation-error:0.00125\u001b[0m\n",
      "\u001b[34m[40]#011train-error:0.00114#011validation-error:0.00125\u001b[0m\n",
      "\u001b[34m[41]#011train-error:0.00109#011validation-error:0.00110\u001b[0m\n",
      "\u001b[34m[42]#011train-error:0.00109#011validation-error:0.00110\u001b[0m\n",
      "\u001b[34m[43]#011train-error:0.00109#011validation-error:0.00110\u001b[0m\n",
      "\u001b[34m[44]#011train-error:0.00109#011validation-error:0.00110\u001b[0m\n",
      "\u001b[34m[45]#011train-error:0.00109#011validation-error:0.00110\u001b[0m\n",
      "\u001b[34m[46]#011train-error:0.00106#011validation-error:0.00110\u001b[0m\n",
      "\u001b[34m[47]#011train-error:0.00106#011validation-error:0.00110\u001b[0m\n",
      "\u001b[34m[48]#011train-error:0.00106#011validation-error:0.00110\u001b[0m\n",
      "\u001b[34m[49]#011train-error:0.00096#011validation-error:0.00090\u001b[0m\n",
      "\n",
      "2024-10-21 07:42:50 Training - Training image download completed. Training in progress.\n",
      "2024-10-21 07:42:50 Uploading - Uploading generated training model\n",
      "2024-10-21 07:42:50 Completed - Training job completed\n",
      "Training seconds: 115\n",
      "Billable seconds: 39\n",
      "Managed Spot Training savings: 66.1%\n"
     ]
    }
   ],
   "source": [
    "estimator.fit({'train': s3_input_train,'validation': s3_input_test})"
   ]
  },
  {
   "cell_type": "markdown",
   "metadata": {},
   "source": [
    "## Deployment as Endpoint"
   ]
  },
  {
   "cell_type": "code",
   "execution_count": 24,
   "metadata": {},
   "outputs": [
    {
     "name": "stderr",
     "output_type": "stream",
     "text": [
      "INFO:sagemaker:Creating model with name: sagemaker-xgboost-2024-10-21-07-43-04-870\n",
      "INFO:sagemaker:Creating endpoint-config with name sagemaker-xgboost-2024-10-21-07-43-04-870\n",
      "INFO:sagemaker:Creating endpoint with name sagemaker-xgboost-2024-10-21-07-43-04-870\n"
     ]
    },
    {
     "name": "stdout",
     "output_type": "stream",
     "text": [
      "------!"
     ]
    }
   ],
   "source": [
    "xgb_predictor = estimator.deploy(initial_instance_count=1,instance_type='ml.m5.large')"
   ]
  },
  {
   "cell_type": "markdown",
   "metadata": {},
   "source": [
    "## Validation"
   ]
  },
  {
   "cell_type": "code",
   "execution_count": 25,
   "metadata": {},
   "outputs": [],
   "source": [
    "from sagemaker.serializers import CSVSerializer\n",
    "import numpy as np\n",
    "from sklearn.metrics import accuracy_score, precision_score, recall_score, f1_score, confusion_matrix"
   ]
  },
  {
   "cell_type": "code",
   "execution_count": 26,
   "metadata": {
    "scrolled": true
   },
   "outputs": [
    {
     "name": "stdout",
     "output_type": "stream",
     "text": [
      "(20000,)\n"
     ]
    }
   ],
   "source": [
    "# Drop the label column from the test data\n",
    "test_data_features = test_data_final.drop(columns=['Label']).values\n",
    "\n",
    "# Set the content type and serializer\n",
    "xgb_predictor.serializer = CSVSerializer()\n",
    "xgb_predictor.content_type = 'text/csv'\n",
    "\n",
    "# Perform prediction\n",
    "predictions = xgb_predictor.predict(test_data_features).decode('utf-8')\n",
    "\n",
    "y_test = test_data_final['Label'].values\n",
    "\n",
    "# Convert the predictions into a array\n",
    "predictions_array = np.fromstring(predictions, sep=',')\n",
    "print(predictions_array.shape)\n"
   ]
  },
  {
   "cell_type": "code",
   "execution_count": 27,
   "metadata": {},
   "outputs": [],
   "source": [
    "# Converting predictions them to binary (0 or 1)\n",
    "threshold = 0.5\n",
    "binary_predictions = (predictions_array >= threshold).astype(int)\n"
   ]
  },
  {
   "cell_type": "code",
   "execution_count": 28,
   "metadata": {
    "scrolled": true
   },
   "outputs": [],
   "source": [
    "# Accuracy\n",
    "accuracy = accuracy_score(y_test, binary_predictions)\n",
    "\n",
    "# Precision\n",
    "precision = precision_score(y_test, binary_predictions)\n",
    "\n",
    "# Recall\n",
    "recall = recall_score(y_test, binary_predictions)\n",
    "\n",
    "# F1 Score\n",
    "f1 = f1_score(y_test, binary_predictions)\n",
    "\n",
    "# Confusion Matrix\n",
    "cm = confusion_matrix(y_test, binary_predictions)\n",
    "\n",
    "# False Positive Rate (FPR) using the confusion matrix\n",
    "tn, fp, fn, tp = cm.ravel()\n",
    "false_positive_rate = fp / (fp + tn)\n"
   ]
  },
  {
   "cell_type": "code",
   "execution_count": 29,
   "metadata": {},
   "outputs": [
    {
     "name": "stdout",
     "output_type": "stream",
     "text": [
      "Accuracy: 0.99910000\n",
      "Precision: 0.99940600\n",
      "Recall: 0.99952474\n",
      "F1 Score: 0.99946537\n",
      "False Positive Rate: 0.00315756\n"
     ]
    }
   ],
   "source": [
    "\n",
    "# Print the metrics\n",
    "print(f\"Accuracy: {accuracy:.8f}\")\n",
    "print(f\"Precision: {precision:.8f}\")\n",
    "print(f\"Recall: {recall:.8f}\")\n",
    "print(f\"F1 Score: {f1:.8f}\")\n",
    "print(f\"False Positive Rate: {false_positive_rate:.8f}\")\n"
   ]
  },
  {
   "cell_type": "markdown",
   "metadata": {},
   "source": [
    "## Deleting The EndPoint"
   ]
  },
  {
   "cell_type": "code",
   "execution_count": 30,
   "metadata": {},
   "outputs": [
    {
     "name": "stderr",
     "output_type": "stream",
     "text": [
      "WARNING:sagemaker.deprecations:The endpoint attribute has been renamed in sagemaker>=2.\n",
      "See: https://sagemaker.readthedocs.io/en/stable/v2.html for details.\n",
      "INFO:sagemaker:Deleting endpoint with name: sagemaker-xgboost-2024-10-21-07-43-04-870\n"
     ]
    }
   ],
   "source": [
    "sagemaker.Session().delete_endpoint(xgb_predictor.endpoint)"
   ]
  },
  {
   "cell_type": "code",
   "execution_count": 31,
   "metadata": {},
   "outputs": [
    {
     "data": {
      "text/plain": [
       "[{'ResponseMetadata': {'RequestId': 'WED578615H3KTESY',\n",
       "   'HostId': 'fR1TP7LFBjgaLD+qSPb6uuMtNHgPmrSGTuDXErDIij2ZuepNFkHaWBgaSWeYQeoTeak+z2GFS4k=',\n",
       "   'HTTPStatusCode': 200,\n",
       "   'HTTPHeaders': {'x-amz-id-2': 'fR1TP7LFBjgaLD+qSPb6uuMtNHgPmrSGTuDXErDIij2ZuepNFkHaWBgaSWeYQeoTeak+z2GFS4k=',\n",
       "    'x-amz-request-id': 'WED578615H3KTESY',\n",
       "    'date': 'Mon, 21 Oct 2024 07:49:59 GMT',\n",
       "    'content-type': 'application/xml',\n",
       "    'transfer-encoding': 'chunked',\n",
       "    'server': 'AmazonS3',\n",
       "    'connection': 'close'},\n",
       "   'RetryAttempts': 0},\n",
       "  'Deleted': [{'Key': 'pretrained-algo/output/sagemaker-xgboost-2024-10-21-07-40-14-736/debug-output/training_job_end.ts'},\n",
       "   {'Key': 'pretrained-algo/output/sagemaker-xgboost-2024-10-21-07-40-14-736/debug-output/collections/000000000/worker_0_collections.json'},\n",
       "   {'Key': 'pretrained-algo/output/sagemaker-xgboost-2024-10-21-07-40-14-736/profiler-output/framework/training_job_end.ts'},\n",
       "   {'Key': 'pretrained-algo/output/sagemaker-xgboost-2024-10-21-07-40-14-736/debug-output/events/000000000040/000000000040_worker_0.tfevents'},\n",
       "   {'Key': 'pretrained-algo/output/sagemaker-xgboost-2024-10-21-07-40-14-736/debug-output/index/000000000/000000000020_worker_0.json'},\n",
       "   {'Key': 'pretrained-algo/output/sagemaker-xgboost-2024-10-21-07-40-14-736/debug-output/index/000000000/000000000030_worker_0.json'},\n",
       "   {'Key': 'pretrained-algo/output/sagemaker-xgboost-2024-10-21-07-40-14-736/debug-output/index/000000000/000000000040_worker_0.json'},\n",
       "   {'Key': 'pretrained-algo/test/test.csv'},\n",
       "   {'Key': 'pretrained_sm.ipynb'},\n",
       "   {'Key': 'pretrained-algo/train/train.csv'},\n",
       "   {'Key': 'final_dataset.csv'},\n",
       "   {'Key': 'pretrained-algo/output/sagemaker-xgboost-2024-10-21-07-40-14-736/profiler-output/system/training_job_end.ts'},\n",
       "   {'Key': 'pretrained-algo/output/sagemaker-xgboost-2024-10-21-07-40-14-736/debug-output/events/000000000010/000000000010_worker_0.tfevents'},\n",
       "   {'Key': 'pretrained-algo/output/sagemaker-xgboost-2024-10-21-07-40-14-736/profiler-output/system/incremental/2024102107/1729496520.algo-1.json'},\n",
       "   {'Key': 'pretrained-algo/output/sagemaker-xgboost-2024-10-21-07-40-14-736/debug-output/claim.smd'},\n",
       "   {'Key': 'pretrained-algo/output/sagemaker-xgboost-2024-10-21-07-40-14-736/debug-output/events/000000000020/000000000020_worker_0.tfevents'},\n",
       "   {'Key': 'pretrained-algo/output/sagemaker-xgboost-2024-10-21-07-40-14-736/debug-output/index/000000000/000000000000_worker_0.json'},\n",
       "   {'Key': 'pretrained-algo/output/sagemaker-xgboost-2024-10-21-07-40-14-736/profiler-output/system/incremental/2024102107/1729496460.algo-1.json'},\n",
       "   {'Key': 'pretrained-algo/output/sagemaker-xgboost-2024-10-21-07-40-14-736/debug-output/events/000000000000/000000000000_worker_0.tfevents'},\n",
       "   {'Key': 'pretrained-algo/output/sagemaker-xgboost-2024-10-21-07-40-14-736/debug-output/index/000000000/000000000010_worker_0.json'},\n",
       "   {'Key': 'pretrained-algo/output/sagemaker-xgboost-2024-10-21-07-40-14-736/profiler-output/system/incremental/2024102107/1729496400.algo-1.json'},\n",
       "   {'Key': 'pretrained-algo/output/sagemaker-xgboost-2024-10-21-07-40-14-736/debug-output/events/000000000030/000000000030_worker_0.tfevents'},\n",
       "   {'Key': 'pretrained-algo/output/sagemaker-xgboost-2024-10-21-07-40-14-736/output/model.tar.gz'}]}]"
      ]
     },
     "execution_count": 31,
     "metadata": {},
     "output_type": "execute_result"
    }
   ],
   "source": [
    "bucket_to_delete = boto3.resource('s3').Bucket(bucket_name)\n",
    "bucket_to_delete.objects.all().delete()"
   ]
  },
  {
   "cell_type": "code",
   "execution_count": null,
   "metadata": {},
   "outputs": [],
   "source": []
  }
 ],
 "metadata": {
  "kernelspec": {
   "display_name": "Python 3",
   "language": "python",
   "name": "python3"
  },
  "language_info": {
   "codemirror_mode": {
    "name": "ipython",
    "version": 3
   },
   "file_extension": ".py",
   "mimetype": "text/x-python",
   "name": "python",
   "nbconvert_exporter": "python",
   "pygments_lexer": "ipython3",
   "version": "3.12.1"
  }
 },
 "nbformat": 4,
 "nbformat_minor": 2
}
